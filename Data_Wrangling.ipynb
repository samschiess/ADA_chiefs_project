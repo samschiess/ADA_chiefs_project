{
 "cells": [
  {
   "cell_type": "markdown",
   "metadata": {},
   "source": [
    "# Data Wrangling\n",
    "\n",
    "of Project 'Demography behind household sizes in Switzerland and its change in time'"
   ]
  },
  {
   "cell_type": "code",
   "execution_count": 1,
   "metadata": {},
   "outputs": [],
   "source": [
    "%matplotlib inline\n",
    "import os\n",
    "import pandas as pd\n",
    "import json\n",
    "import folium\n",
    "import numpy as np\n",
    "import matplotlib.pyplot as plt\n",
    "import seaborn as sns"
   ]
  },
  {
   "cell_type": "code",
   "execution_count": 2,
   "metadata": {},
   "outputs": [],
   "source": [
    "data_folder = './data/'"
   ]
  },
  {
   "cell_type": "markdown",
   "metadata": {},
   "source": [
    "## Load and Prepare Data"
   ]
  },
  {
   "cell_type": "code",
   "execution_count": 3,
   "metadata": {},
   "outputs": [],
   "source": [
    "hh_sizes_2017 = pd.read_excel(data_folder + 'HH_sizes_commune.xlsx', skiprows=3)"
   ]
  },
  {
   "cell_type": "code",
   "execution_count": 12,
   "metadata": {},
   "outputs": [
    {
     "data": {
      "text/plain": [
       "Ellipsis"
      ]
     },
     "execution_count": 12,
     "metadata": {},
     "output_type": "execute_result"
    }
   ],
   "source": [
    "#read household sizes from excel\n",
    "hh_sizes = pd.read_excel(data_folder + 'HH_sizes_commune.xlsx', \n",
    "                         skiprows=3, skipfooter=10, sheet_name = None, usecols=list(range(9)))\n",
    "\n",
    "#read demographic values from csv\n",
    "mun_incomes = pd.read_csv(data_folder + 'Incomes.csv')\n"
   ]
  },
  {
   "cell_type": "markdown",
   "metadata": {},
   "source": [
    "#### Household Sizes Wrangling (2010 - 2017)"
   ]
  },
  {
   "cell_type": "code",
   "execution_count": 5,
   "metadata": {},
   "outputs": [],
   "source": [
    "#access sheets or columns per:\n",
    "\n",
    "#rename headers and index to commune\n",
    "header = ['Commune', 'Total: 1', '1-person households','2-person households', '3-person households', '4-person households','5-person households', '6-person or larger households', 'not plausible hh']\n",
    "years = ['2017', '2016', '2015', '2014', '2013', '2012', '2011', '2010']\n",
    "\n",
    "for y in years:\n",
    "    hh_sizes[y].columns = header\n",
    "    hh_sizes[y].set_index('Commune')\n"
   ]
  },
  {
   "cell_type": "markdown",
   "metadata": {},
   "source": [
    "#### Demographic values Wrangling, Incomes and Age (2007)"
   ]
  },
  {
   "cell_type": "code",
   "execution_count": 52,
   "metadata": {},
   "outputs": [],
   "source": [
    "#the dataset Incomes.csv contains a lot of values for each community. Only some are taken for our analysis. \n",
    "#Distribution of age of population and most important, the mean revenue \n",
    "\n",
    "#Select interesting columns\n",
    "incomes_columns_selection = ['GMDE', 'KT', 'NAME', 'CTTOT', 'CT25L', 'CT2539', 'CT4059', \n",
    "                   'CT6079', 'CT8099', 'CT100149', 'CT150299', 'CT300M', 'CT_FAM','CT_LON', 'MEANREV']\n",
    "\n",
    "#Rename columns\n",
    "incomes_columns_names = ['Municipality', 'Canton', 'Name', 'Population', 'Under25', 'Between25_39',\n",
    "                         'Between40_59', 'Between60_79', 'Between80_99', 'Between100_149', 'Between150_299',\n",
    "                         'Over300', 'Families', 'Lonely', 'MEANREV']\n",
    "\n",
    "mun_demography = mun_incomes[incomes_columns_selection]\n",
    "mun_demography.columns = incomes_columns_names"
   ]
  },
  {
   "cell_type": "code",
   "execution_count": null,
   "metadata": {},
   "outputs": [],
   "source": []
  },
  {
   "cell_type": "code",
   "execution_count": null,
   "metadata": {},
   "outputs": [],
   "source": []
  }
 ],
 "metadata": {
  "kernelspec": {
   "display_name": "Python 3",
   "language": "python",
   "name": "python3"
  },
  "language_info": {
   "codemirror_mode": {
    "name": "ipython",
    "version": 3
   },
   "file_extension": ".py",
   "mimetype": "text/x-python",
   "name": "python",
   "nbconvert_exporter": "python",
   "pygments_lexer": "ipython3",
   "version": "3.6.4"
  }
 },
 "nbformat": 4,
 "nbformat_minor": 2
}
